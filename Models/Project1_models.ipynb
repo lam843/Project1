{
  "nbformat": 4,
  "nbformat_minor": 0,
  "metadata": {
    "colab": {
      "provenance": []
    },
    "kernelspec": {
      "name": "python3",
      "display_name": "Python 3"
    },
    "language_info": {
      "name": "python"
    }
  },
  "cells": [
    {
      "cell_type": "code",
      "execution_count": 16,
      "metadata": {
        "id": "SmNWcBruTpIc",
        "colab": {
          "base_uri": "https://localhost:8080/"
        },
        "outputId": "4e8a16ea-a552-4a97-d1cf-172272f358ca"
      },
      "outputs": [
        {
          "output_type": "stream",
          "name": "stdout",
          "text": [
            "Drive already mounted at /content/drive; to attempt to forcibly remount, call drive.mount(\"/content/drive\", force_remount=True).\n"
          ]
        }
      ],
      "source": [
        "from google.colab import drive\n",
        "drive.mount('/content/drive')"
      ]
    },
    {
      "cell_type": "code",
      "source": [
        "import pandas as pd\n",
        "import numpy as np\n",
        "from sklearn.compose import ColumnTransformer\n",
        "from sklearn.preprocessing import StandardScaler\n",
        "from sklearn.svm import SVR\n",
        "from sklearn.model_selection import GridSearchCV\n",
        "from sklearn.pipeline import Pipeline\n",
        "from sklearn.impute import SimpleImputer\n",
        "from sklearn.experimental import enable_iterative_imputer\n",
        "from sklearn.impute import IterativeImputer\n",
        "from sklearn.base import BaseEstimator, TransformerMixin\n",
        "from sklearn.preprocessing import FunctionTransformer\n",
        "from sklearn.model_selection import cross_val_score\n",
        "\n",
        "# Read the CSV file\n",
        "df = pd.read_csv('/content/drive/MyDrive/train_dataset.csv')\n",
        "df"
      ],
      "metadata": {
        "id": "MIbVZZL2kPg5",
        "colab": {
          "base_uri": "https://localhost:8080/",
          "height": 423
        },
        "outputId": "9a9999b1-e31c-472a-a591-e35d29d3f775"
      },
      "execution_count": 17,
      "outputs": [
        {
          "output_type": "execute_result",
          "data": {
            "text/plain": [
              "      DTronc  LTronc  DChar  LChar  DChar1  LChar1  DChar2  LChar2  DChar3  \\\n",
              "0       75.0    34.0   34.5  190.5  106.30    50.0   76.10     7.5     NaN   \n",
              "1       75.0    34.0   34.5  188.0   66.80     0.0     NaN     NaN     NaN   \n",
              "2       64.5    34.0   32.5   66.0   55.50     0.0   35.00    36.0     NaN   \n",
              "3       70.0    55.0   37.0  203.0   71.30    14.0   31.20    35.0     NaN   \n",
              "4       71.0    62.0   35.0  110.0   53.03    43.0   21.66    32.0     NaN   \n",
              "...      ...     ...    ...    ...     ...     ...     ...     ...     ...   \n",
              "4407    71.5    31.0   40.3   63.0   83.50   139.0   12.14    10.0     8.8   \n",
              "4408    81.0    14.0   37.0  263.0   54.80     3.0   27.00     4.0     NaN   \n",
              "4409    81.0    19.0   40.0  199.5   39.00    34.0   11.50     2.3     NaN   \n",
              "4410    66.0    22.5   34.0  127.0   40.00    79.2     NaN     NaN     NaN   \n",
              "4411    70.0    71.0   40.5  233.0   84.60    48.0   40.50    15.0    38.7   \n",
              "\n",
              "      LChar3  ...  LRam   PFr1   PFr2   PFr3   PFr4  PFr5  PFr6  year  \\\n",
              "0        NaN  ...  27.0  170.0    NaN    NaN    NaN   NaN   NaN  2022   \n",
              "1        NaN  ...  24.0    NaN    NaN    NaN    NaN   NaN   NaN  2022   \n",
              "2        NaN  ...  17.0  194.0  152.0  148.0  200.0   NaN   NaN  2019   \n",
              "3        NaN  ...  47.0  156.0    NaN    NaN    NaN   NaN   NaN  2022   \n",
              "4        NaN  ...  25.0    NaN    NaN    NaN    NaN   NaN   NaN  2021   \n",
              "...      ...  ...   ...    ...    ...    ...    ...   ...   ...   ...   \n",
              "4407    30.0  ...  11.5   93.0    NaN    NaN    NaN   NaN   NaN  2021   \n",
              "4408     NaN  ...  26.0  140.0  140.0    NaN    NaN   NaN   NaN  2022   \n",
              "4409     NaN  ...  50.0   80.0  120.0    NaN    NaN   NaN   NaN  2022   \n",
              "4410     NaN  ...  57.5  130.0   90.0    NaN    NaN   NaN   NaN  2022   \n",
              "4411     5.0  ...  22.0  164.0  163.0    NaN    NaN   NaN   NaN  2021   \n",
              "\n",
              "      variety  Total_Poids  \n",
              "0           2        170.0  \n",
              "1           2          0.0  \n",
              "2           2        694.0  \n",
              "3           1        156.0  \n",
              "4           1          0.0  \n",
              "...       ...          ...  \n",
              "4407        2         93.0  \n",
              "4408        2        280.0  \n",
              "4409        2        200.0  \n",
              "4410        2        220.0  \n",
              "4411        1        327.0  \n",
              "\n",
              "[4412 rows x 26 columns]"
            ],
            "text/html": [
              "\n",
              "  <div id=\"df-38efc1c2-656c-4852-a9bf-63d9b78530d5\">\n",
              "    <div class=\"colab-df-container\">\n",
              "      <div>\n",
              "<style scoped>\n",
              "    .dataframe tbody tr th:only-of-type {\n",
              "        vertical-align: middle;\n",
              "    }\n",
              "\n",
              "    .dataframe tbody tr th {\n",
              "        vertical-align: top;\n",
              "    }\n",
              "\n",
              "    .dataframe thead th {\n",
              "        text-align: right;\n",
              "    }\n",
              "</style>\n",
              "<table border=\"1\" class=\"dataframe\">\n",
              "  <thead>\n",
              "    <tr style=\"text-align: right;\">\n",
              "      <th></th>\n",
              "      <th>DTronc</th>\n",
              "      <th>LTronc</th>\n",
              "      <th>DChar</th>\n",
              "      <th>LChar</th>\n",
              "      <th>DChar1</th>\n",
              "      <th>LChar1</th>\n",
              "      <th>DChar2</th>\n",
              "      <th>LChar2</th>\n",
              "      <th>DChar3</th>\n",
              "      <th>LChar3</th>\n",
              "      <th>...</th>\n",
              "      <th>LRam</th>\n",
              "      <th>PFr1</th>\n",
              "      <th>PFr2</th>\n",
              "      <th>PFr3</th>\n",
              "      <th>PFr4</th>\n",
              "      <th>PFr5</th>\n",
              "      <th>PFr6</th>\n",
              "      <th>year</th>\n",
              "      <th>variety</th>\n",
              "      <th>Total_Poids</th>\n",
              "    </tr>\n",
              "  </thead>\n",
              "  <tbody>\n",
              "    <tr>\n",
              "      <th>0</th>\n",
              "      <td>75.0</td>\n",
              "      <td>34.0</td>\n",
              "      <td>34.5</td>\n",
              "      <td>190.5</td>\n",
              "      <td>106.30</td>\n",
              "      <td>50.0</td>\n",
              "      <td>76.10</td>\n",
              "      <td>7.5</td>\n",
              "      <td>NaN</td>\n",
              "      <td>NaN</td>\n",
              "      <td>...</td>\n",
              "      <td>27.0</td>\n",
              "      <td>170.0</td>\n",
              "      <td>NaN</td>\n",
              "      <td>NaN</td>\n",
              "      <td>NaN</td>\n",
              "      <td>NaN</td>\n",
              "      <td>NaN</td>\n",
              "      <td>2022</td>\n",
              "      <td>2</td>\n",
              "      <td>170.0</td>\n",
              "    </tr>\n",
              "    <tr>\n",
              "      <th>1</th>\n",
              "      <td>75.0</td>\n",
              "      <td>34.0</td>\n",
              "      <td>34.5</td>\n",
              "      <td>188.0</td>\n",
              "      <td>66.80</td>\n",
              "      <td>0.0</td>\n",
              "      <td>NaN</td>\n",
              "      <td>NaN</td>\n",
              "      <td>NaN</td>\n",
              "      <td>NaN</td>\n",
              "      <td>...</td>\n",
              "      <td>24.0</td>\n",
              "      <td>NaN</td>\n",
              "      <td>NaN</td>\n",
              "      <td>NaN</td>\n",
              "      <td>NaN</td>\n",
              "      <td>NaN</td>\n",
              "      <td>NaN</td>\n",
              "      <td>2022</td>\n",
              "      <td>2</td>\n",
              "      <td>0.0</td>\n",
              "    </tr>\n",
              "    <tr>\n",
              "      <th>2</th>\n",
              "      <td>64.5</td>\n",
              "      <td>34.0</td>\n",
              "      <td>32.5</td>\n",
              "      <td>66.0</td>\n",
              "      <td>55.50</td>\n",
              "      <td>0.0</td>\n",
              "      <td>35.00</td>\n",
              "      <td>36.0</td>\n",
              "      <td>NaN</td>\n",
              "      <td>NaN</td>\n",
              "      <td>...</td>\n",
              "      <td>17.0</td>\n",
              "      <td>194.0</td>\n",
              "      <td>152.0</td>\n",
              "      <td>148.0</td>\n",
              "      <td>200.0</td>\n",
              "      <td>NaN</td>\n",
              "      <td>NaN</td>\n",
              "      <td>2019</td>\n",
              "      <td>2</td>\n",
              "      <td>694.0</td>\n",
              "    </tr>\n",
              "    <tr>\n",
              "      <th>3</th>\n",
              "      <td>70.0</td>\n",
              "      <td>55.0</td>\n",
              "      <td>37.0</td>\n",
              "      <td>203.0</td>\n",
              "      <td>71.30</td>\n",
              "      <td>14.0</td>\n",
              "      <td>31.20</td>\n",
              "      <td>35.0</td>\n",
              "      <td>NaN</td>\n",
              "      <td>NaN</td>\n",
              "      <td>...</td>\n",
              "      <td>47.0</td>\n",
              "      <td>156.0</td>\n",
              "      <td>NaN</td>\n",
              "      <td>NaN</td>\n",
              "      <td>NaN</td>\n",
              "      <td>NaN</td>\n",
              "      <td>NaN</td>\n",
              "      <td>2022</td>\n",
              "      <td>1</td>\n",
              "      <td>156.0</td>\n",
              "    </tr>\n",
              "    <tr>\n",
              "      <th>4</th>\n",
              "      <td>71.0</td>\n",
              "      <td>62.0</td>\n",
              "      <td>35.0</td>\n",
              "      <td>110.0</td>\n",
              "      <td>53.03</td>\n",
              "      <td>43.0</td>\n",
              "      <td>21.66</td>\n",
              "      <td>32.0</td>\n",
              "      <td>NaN</td>\n",
              "      <td>NaN</td>\n",
              "      <td>...</td>\n",
              "      <td>25.0</td>\n",
              "      <td>NaN</td>\n",
              "      <td>NaN</td>\n",
              "      <td>NaN</td>\n",
              "      <td>NaN</td>\n",
              "      <td>NaN</td>\n",
              "      <td>NaN</td>\n",
              "      <td>2021</td>\n",
              "      <td>1</td>\n",
              "      <td>0.0</td>\n",
              "    </tr>\n",
              "    <tr>\n",
              "      <th>...</th>\n",
              "      <td>...</td>\n",
              "      <td>...</td>\n",
              "      <td>...</td>\n",
              "      <td>...</td>\n",
              "      <td>...</td>\n",
              "      <td>...</td>\n",
              "      <td>...</td>\n",
              "      <td>...</td>\n",
              "      <td>...</td>\n",
              "      <td>...</td>\n",
              "      <td>...</td>\n",
              "      <td>...</td>\n",
              "      <td>...</td>\n",
              "      <td>...</td>\n",
              "      <td>...</td>\n",
              "      <td>...</td>\n",
              "      <td>...</td>\n",
              "      <td>...</td>\n",
              "      <td>...</td>\n",
              "      <td>...</td>\n",
              "      <td>...</td>\n",
              "    </tr>\n",
              "    <tr>\n",
              "      <th>4407</th>\n",
              "      <td>71.5</td>\n",
              "      <td>31.0</td>\n",
              "      <td>40.3</td>\n",
              "      <td>63.0</td>\n",
              "      <td>83.50</td>\n",
              "      <td>139.0</td>\n",
              "      <td>12.14</td>\n",
              "      <td>10.0</td>\n",
              "      <td>8.8</td>\n",
              "      <td>30.0</td>\n",
              "      <td>...</td>\n",
              "      <td>11.5</td>\n",
              "      <td>93.0</td>\n",
              "      <td>NaN</td>\n",
              "      <td>NaN</td>\n",
              "      <td>NaN</td>\n",
              "      <td>NaN</td>\n",
              "      <td>NaN</td>\n",
              "      <td>2021</td>\n",
              "      <td>2</td>\n",
              "      <td>93.0</td>\n",
              "    </tr>\n",
              "    <tr>\n",
              "      <th>4408</th>\n",
              "      <td>81.0</td>\n",
              "      <td>14.0</td>\n",
              "      <td>37.0</td>\n",
              "      <td>263.0</td>\n",
              "      <td>54.80</td>\n",
              "      <td>3.0</td>\n",
              "      <td>27.00</td>\n",
              "      <td>4.0</td>\n",
              "      <td>NaN</td>\n",
              "      <td>NaN</td>\n",
              "      <td>...</td>\n",
              "      <td>26.0</td>\n",
              "      <td>140.0</td>\n",
              "      <td>140.0</td>\n",
              "      <td>NaN</td>\n",
              "      <td>NaN</td>\n",
              "      <td>NaN</td>\n",
              "      <td>NaN</td>\n",
              "      <td>2022</td>\n",
              "      <td>2</td>\n",
              "      <td>280.0</td>\n",
              "    </tr>\n",
              "    <tr>\n",
              "      <th>4409</th>\n",
              "      <td>81.0</td>\n",
              "      <td>19.0</td>\n",
              "      <td>40.0</td>\n",
              "      <td>199.5</td>\n",
              "      <td>39.00</td>\n",
              "      <td>34.0</td>\n",
              "      <td>11.50</td>\n",
              "      <td>2.3</td>\n",
              "      <td>NaN</td>\n",
              "      <td>NaN</td>\n",
              "      <td>...</td>\n",
              "      <td>50.0</td>\n",
              "      <td>80.0</td>\n",
              "      <td>120.0</td>\n",
              "      <td>NaN</td>\n",
              "      <td>NaN</td>\n",
              "      <td>NaN</td>\n",
              "      <td>NaN</td>\n",
              "      <td>2022</td>\n",
              "      <td>2</td>\n",
              "      <td>200.0</td>\n",
              "    </tr>\n",
              "    <tr>\n",
              "      <th>4410</th>\n",
              "      <td>66.0</td>\n",
              "      <td>22.5</td>\n",
              "      <td>34.0</td>\n",
              "      <td>127.0</td>\n",
              "      <td>40.00</td>\n",
              "      <td>79.2</td>\n",
              "      <td>NaN</td>\n",
              "      <td>NaN</td>\n",
              "      <td>NaN</td>\n",
              "      <td>NaN</td>\n",
              "      <td>...</td>\n",
              "      <td>57.5</td>\n",
              "      <td>130.0</td>\n",
              "      <td>90.0</td>\n",
              "      <td>NaN</td>\n",
              "      <td>NaN</td>\n",
              "      <td>NaN</td>\n",
              "      <td>NaN</td>\n",
              "      <td>2022</td>\n",
              "      <td>2</td>\n",
              "      <td>220.0</td>\n",
              "    </tr>\n",
              "    <tr>\n",
              "      <th>4411</th>\n",
              "      <td>70.0</td>\n",
              "      <td>71.0</td>\n",
              "      <td>40.5</td>\n",
              "      <td>233.0</td>\n",
              "      <td>84.60</td>\n",
              "      <td>48.0</td>\n",
              "      <td>40.50</td>\n",
              "      <td>15.0</td>\n",
              "      <td>38.7</td>\n",
              "      <td>5.0</td>\n",
              "      <td>...</td>\n",
              "      <td>22.0</td>\n",
              "      <td>164.0</td>\n",
              "      <td>163.0</td>\n",
              "      <td>NaN</td>\n",
              "      <td>NaN</td>\n",
              "      <td>NaN</td>\n",
              "      <td>NaN</td>\n",
              "      <td>2021</td>\n",
              "      <td>1</td>\n",
              "      <td>327.0</td>\n",
              "    </tr>\n",
              "  </tbody>\n",
              "</table>\n",
              "<p>4412 rows × 26 columns</p>\n",
              "</div>\n",
              "      <button class=\"colab-df-convert\" onclick=\"convertToInteractive('df-38efc1c2-656c-4852-a9bf-63d9b78530d5')\"\n",
              "              title=\"Convert this dataframe to an interactive table.\"\n",
              "              style=\"display:none;\">\n",
              "        \n",
              "  <svg xmlns=\"http://www.w3.org/2000/svg\" height=\"24px\"viewBox=\"0 0 24 24\"\n",
              "       width=\"24px\">\n",
              "    <path d=\"M0 0h24v24H0V0z\" fill=\"none\"/>\n",
              "    <path d=\"M18.56 5.44l.94 2.06.94-2.06 2.06-.94-2.06-.94-.94-2.06-.94 2.06-2.06.94zm-11 1L8.5 8.5l.94-2.06 2.06-.94-2.06-.94L8.5 2.5l-.94 2.06-2.06.94zm10 10l.94 2.06.94-2.06 2.06-.94-2.06-.94-.94-2.06-.94 2.06-2.06.94z\"/><path d=\"M17.41 7.96l-1.37-1.37c-.4-.4-.92-.59-1.43-.59-.52 0-1.04.2-1.43.59L10.3 9.45l-7.72 7.72c-.78.78-.78 2.05 0 2.83L4 21.41c.39.39.9.59 1.41.59.51 0 1.02-.2 1.41-.59l7.78-7.78 2.81-2.81c.8-.78.8-2.07 0-2.86zM5.41 20L4 18.59l7.72-7.72 1.47 1.35L5.41 20z\"/>\n",
              "  </svg>\n",
              "      </button>\n",
              "      \n",
              "  <style>\n",
              "    .colab-df-container {\n",
              "      display:flex;\n",
              "      flex-wrap:wrap;\n",
              "      gap: 12px;\n",
              "    }\n",
              "\n",
              "    .colab-df-convert {\n",
              "      background-color: #E8F0FE;\n",
              "      border: none;\n",
              "      border-radius: 50%;\n",
              "      cursor: pointer;\n",
              "      display: none;\n",
              "      fill: #1967D2;\n",
              "      height: 32px;\n",
              "      padding: 0 0 0 0;\n",
              "      width: 32px;\n",
              "    }\n",
              "\n",
              "    .colab-df-convert:hover {\n",
              "      background-color: #E2EBFA;\n",
              "      box-shadow: 0px 1px 2px rgba(60, 64, 67, 0.3), 0px 1px 3px 1px rgba(60, 64, 67, 0.15);\n",
              "      fill: #174EA6;\n",
              "    }\n",
              "\n",
              "    [theme=dark] .colab-df-convert {\n",
              "      background-color: #3B4455;\n",
              "      fill: #D2E3FC;\n",
              "    }\n",
              "\n",
              "    [theme=dark] .colab-df-convert:hover {\n",
              "      background-color: #434B5C;\n",
              "      box-shadow: 0px 1px 3px 1px rgba(0, 0, 0, 0.15);\n",
              "      filter: drop-shadow(0px 1px 2px rgba(0, 0, 0, 0.3));\n",
              "      fill: #FFFFFF;\n",
              "    }\n",
              "  </style>\n",
              "\n",
              "      <script>\n",
              "        const buttonEl =\n",
              "          document.querySelector('#df-38efc1c2-656c-4852-a9bf-63d9b78530d5 button.colab-df-convert');\n",
              "        buttonEl.style.display =\n",
              "          google.colab.kernel.accessAllowed ? 'block' : 'none';\n",
              "\n",
              "        async function convertToInteractive(key) {\n",
              "          const element = document.querySelector('#df-38efc1c2-656c-4852-a9bf-63d9b78530d5');\n",
              "          const dataTable =\n",
              "            await google.colab.kernel.invokeFunction('convertToInteractive',\n",
              "                                                     [key], {});\n",
              "          if (!dataTable) return;\n",
              "\n",
              "          const docLinkHtml = 'Like what you see? Visit the ' +\n",
              "            '<a target=\"_blank\" href=https://colab.research.google.com/notebooks/data_table.ipynb>data table notebook</a>'\n",
              "            + ' to learn more about interactive tables.';\n",
              "          element.innerHTML = '';\n",
              "          dataTable['output_type'] = 'display_data';\n",
              "          await google.colab.output.renderOutput(dataTable, element);\n",
              "          const docLink = document.createElement('div');\n",
              "          docLink.innerHTML = docLinkHtml;\n",
              "          element.appendChild(docLink);\n",
              "        }\n",
              "      </script>\n",
              "    </div>\n",
              "  </div>\n",
              "  "
            ]
          },
          "metadata": {},
          "execution_count": 17
        }
      ]
    },
    {
      "cell_type": "markdown",
      "source": [
        "## Classes for Pipline of preprocessing :"
      ],
      "metadata": {
        "id": "02Y_blCYmmTk"
      }
    },
    {
      "cell_type": "code",
      "source": [
        "class DropColumnsTransformer(BaseEstimator, TransformerMixin):\n",
        "    def __init__(self, columns):\n",
        "        self.columns = columns\n",
        "\n",
        "    def fit(self, X, y=None):\n",
        "        return self\n",
        "\n",
        "    def transform(self, X):\n",
        "        return X.drop(self.columns, axis=1)\n",
        "\n",
        "\n",
        "class RemoveRTransformer(BaseEstimator, TransformerMixin):\n",
        "    def __init__(self, column):\n",
        "        self.column = column\n",
        "\n",
        "    def fit(self, X, y=None):\n",
        "        return self\n",
        "\n",
        "    def transform(self, X):\n",
        "        X_transformed = X.copy()\n",
        "        X_transformed[self.column] = X_transformed[self.column].str.replace('R', '').astype(float)\n",
        "        return X_transformed\n",
        "        \n",
        "class ConvertToNaNTransformer(BaseEstimator, TransformerMixin):\n",
        "    def __init__(self, columns):\n",
        "        self.columns = columns\n",
        "\n",
        "    def fit(self, X, y=None):\n",
        "        return self\n",
        "\n",
        "    def transform(self, X):\n",
        "        X_transformed = X.copy()\n",
        "\n",
        "        def convert_to_nan(x):\n",
        "            try:\n",
        "                return pd.to_numeric(x)\n",
        "            except:\n",
        "                return np.nan\n",
        "\n",
        "        for cl in self.columns:\n",
        "            X_transformed[cl] = X_transformed[cl].apply(convert_to_nan)\n",
        "        return X_transformed"
      ],
      "metadata": {
        "id": "0xFaLXyplT9j"
      },
      "execution_count": 18,
      "outputs": []
    },
    {
      "cell_type": "markdown",
      "source": [
        "## Preprocessing_pipeline :"
      ],
      "metadata": {
        "id": "XIa7Jqn_nCy3"
      }
    },
    {
      "cell_type": "code",
      "source": [
        "preprocessing_pipeline = Pipeline([\n",
        "    ('drop_columns', DropColumnsTransformer(['DChar5', 'LChar5', 'DChar4', 'LChar4', 'PFr1', 'PFr2', 'PFr3', 'PFr4', 'PFr5', 'PFr6'])),\n",
        "    ('convert_to_nan', ConvertToNaNTransformer(['DChar2', 'DChar1', 'LChar1', 'DRam'])),\n",
        "    ('remove_R', RemoveRTransformer('NumRam')),\n",
        "    ('imputer', SimpleImputer(strategy='median'))\n",
        "])"
      ],
      "metadata": {
        "id": "9Gv0ojVRnCME"
      },
      "execution_count": 19,
      "outputs": []
    },
    {
      "cell_type": "markdown",
      "source": [
        "## Pipline of Model using StandardScaler() and SVR() : "
      ],
      "metadata": {
        "id": "Xr0GvJ1nmw6F"
      }
    },
    {
      "cell_type": "code",
      "source": [
        "# Model pipeline\n",
        "model_pipeline_svr = Pipeline([\n",
        "    ('scaler', StandardScaler()),\n",
        "    ('svr', SVR())\n",
        "])\n",
        "\n",
        "param_grid_svr = {\n",
        "    'svr__C': [0.1, 1, 10],\n",
        "    'svr__gamma': [0.01, 0.1, 1],\n",
        "    'svr__kernel': [ 'rbf']\n",
        "}\n",
        "\n",
        "# Grid search with cross-validation\n",
        "grid_search_svr = GridSearchCV(model_pipeline_svr, param_grid_svr, cv=5)\n",
        "\n",
        "# Preprocessing\n",
        "df = pd.read_csv(\"/content/drive/MyDrive/train_dataset.csv\")\n",
        "y = df['Total_Poids']\n",
        "scaler = StandardScaler()\n",
        "y =  scaler.fit_transform(y.values.reshape(-1, 1)).ravel()\n",
        "X=df.drop('Total_Poids', axis=1)\n",
        "X_preprocessed = preprocessing_pipeline.fit_transform(X)\n",
        "print(X_preprocessed.shape)\n",
        "\n",
        "# Model training \n",
        "grid_search_svr.fit(X_preprocessed, y)"
      ],
      "metadata": {
        "colab": {
          "base_uri": "https://localhost:8080/",
          "height": 170
        },
        "id": "m5SHEvGMlc_U",
        "outputId": "cefe69ab-d1fc-4984-b04b-e6e648090bac"
      },
      "execution_count": 20,
      "outputs": [
        {
          "output_type": "stream",
          "name": "stdout",
          "text": [
            "(4412, 15)\n"
          ]
        },
        {
          "output_type": "execute_result",
          "data": {
            "text/plain": [
              "GridSearchCV(cv=5,\n",
              "             estimator=Pipeline(steps=[('scaler', StandardScaler()),\n",
              "                                       ('svr', SVR())]),\n",
              "             param_grid={'svr__C': [0.1, 1, 10], 'svr__gamma': [0.01, 0.1, 1],\n",
              "                         'svr__kernel': ['rbf']})"
            ],
            "text/html": [
              "<style>#sk-container-id-3 {color: black;background-color: white;}#sk-container-id-3 pre{padding: 0;}#sk-container-id-3 div.sk-toggleable {background-color: white;}#sk-container-id-3 label.sk-toggleable__label {cursor: pointer;display: block;width: 100%;margin-bottom: 0;padding: 0.3em;box-sizing: border-box;text-align: center;}#sk-container-id-3 label.sk-toggleable__label-arrow:before {content: \"▸\";float: left;margin-right: 0.25em;color: #696969;}#sk-container-id-3 label.sk-toggleable__label-arrow:hover:before {color: black;}#sk-container-id-3 div.sk-estimator:hover label.sk-toggleable__label-arrow:before {color: black;}#sk-container-id-3 div.sk-toggleable__content {max-height: 0;max-width: 0;overflow: hidden;text-align: left;background-color: #f0f8ff;}#sk-container-id-3 div.sk-toggleable__content pre {margin: 0.2em;color: black;border-radius: 0.25em;background-color: #f0f8ff;}#sk-container-id-3 input.sk-toggleable__control:checked~div.sk-toggleable__content {max-height: 200px;max-width: 100%;overflow: auto;}#sk-container-id-3 input.sk-toggleable__control:checked~label.sk-toggleable__label-arrow:before {content: \"▾\";}#sk-container-id-3 div.sk-estimator input.sk-toggleable__control:checked~label.sk-toggleable__label {background-color: #d4ebff;}#sk-container-id-3 div.sk-label input.sk-toggleable__control:checked~label.sk-toggleable__label {background-color: #d4ebff;}#sk-container-id-3 input.sk-hidden--visually {border: 0;clip: rect(1px 1px 1px 1px);clip: rect(1px, 1px, 1px, 1px);height: 1px;margin: -1px;overflow: hidden;padding: 0;position: absolute;width: 1px;}#sk-container-id-3 div.sk-estimator {font-family: monospace;background-color: #f0f8ff;border: 1px dotted black;border-radius: 0.25em;box-sizing: border-box;margin-bottom: 0.5em;}#sk-container-id-3 div.sk-estimator:hover {background-color: #d4ebff;}#sk-container-id-3 div.sk-parallel-item::after {content: \"\";width: 100%;border-bottom: 1px solid gray;flex-grow: 1;}#sk-container-id-3 div.sk-label:hover label.sk-toggleable__label {background-color: #d4ebff;}#sk-container-id-3 div.sk-serial::before {content: \"\";position: absolute;border-left: 1px solid gray;box-sizing: border-box;top: 0;bottom: 0;left: 50%;z-index: 0;}#sk-container-id-3 div.sk-serial {display: flex;flex-direction: column;align-items: center;background-color: white;padding-right: 0.2em;padding-left: 0.2em;position: relative;}#sk-container-id-3 div.sk-item {position: relative;z-index: 1;}#sk-container-id-3 div.sk-parallel {display: flex;align-items: stretch;justify-content: center;background-color: white;position: relative;}#sk-container-id-3 div.sk-item::before, #sk-container-id-3 div.sk-parallel-item::before {content: \"\";position: absolute;border-left: 1px solid gray;box-sizing: border-box;top: 0;bottom: 0;left: 50%;z-index: -1;}#sk-container-id-3 div.sk-parallel-item {display: flex;flex-direction: column;z-index: 1;position: relative;background-color: white;}#sk-container-id-3 div.sk-parallel-item:first-child::after {align-self: flex-end;width: 50%;}#sk-container-id-3 div.sk-parallel-item:last-child::after {align-self: flex-start;width: 50%;}#sk-container-id-3 div.sk-parallel-item:only-child::after {width: 0;}#sk-container-id-3 div.sk-dashed-wrapped {border: 1px dashed gray;margin: 0 0.4em 0.5em 0.4em;box-sizing: border-box;padding-bottom: 0.4em;background-color: white;}#sk-container-id-3 div.sk-label label {font-family: monospace;font-weight: bold;display: inline-block;line-height: 1.2em;}#sk-container-id-3 div.sk-label-container {text-align: center;}#sk-container-id-3 div.sk-container {/* jupyter's `normalize.less` sets `[hidden] { display: none; }` but bootstrap.min.css set `[hidden] { display: none !important; }` so we also need the `!important` here to be able to override the default hidden behavior on the sphinx rendered scikit-learn.org. See: https://github.com/scikit-learn/scikit-learn/issues/21755 */display: inline-block !important;position: relative;}#sk-container-id-3 div.sk-text-repr-fallback {display: none;}</style><div id=\"sk-container-id-3\" class=\"sk-top-container\"><div class=\"sk-text-repr-fallback\"><pre>GridSearchCV(cv=5,\n",
              "             estimator=Pipeline(steps=[(&#x27;scaler&#x27;, StandardScaler()),\n",
              "                                       (&#x27;svr&#x27;, SVR())]),\n",
              "             param_grid={&#x27;svr__C&#x27;: [0.1, 1, 10], &#x27;svr__gamma&#x27;: [0.01, 0.1, 1],\n",
              "                         &#x27;svr__kernel&#x27;: [&#x27;rbf&#x27;]})</pre><b>In a Jupyter environment, please rerun this cell to show the HTML representation or trust the notebook. <br />On GitHub, the HTML representation is unable to render, please try loading this page with nbviewer.org.</b></div><div class=\"sk-container\" hidden><div class=\"sk-item sk-dashed-wrapped\"><div class=\"sk-label-container\"><div class=\"sk-label sk-toggleable\"><input class=\"sk-toggleable__control sk-hidden--visually\" id=\"sk-estimator-id-9\" type=\"checkbox\" ><label for=\"sk-estimator-id-9\" class=\"sk-toggleable__label sk-toggleable__label-arrow\">GridSearchCV</label><div class=\"sk-toggleable__content\"><pre>GridSearchCV(cv=5,\n",
              "             estimator=Pipeline(steps=[(&#x27;scaler&#x27;, StandardScaler()),\n",
              "                                       (&#x27;svr&#x27;, SVR())]),\n",
              "             param_grid={&#x27;svr__C&#x27;: [0.1, 1, 10], &#x27;svr__gamma&#x27;: [0.01, 0.1, 1],\n",
              "                         &#x27;svr__kernel&#x27;: [&#x27;rbf&#x27;]})</pre></div></div></div><div class=\"sk-parallel\"><div class=\"sk-parallel-item\"><div class=\"sk-item\"><div class=\"sk-label-container\"><div class=\"sk-label sk-toggleable\"><input class=\"sk-toggleable__control sk-hidden--visually\" id=\"sk-estimator-id-10\" type=\"checkbox\" ><label for=\"sk-estimator-id-10\" class=\"sk-toggleable__label sk-toggleable__label-arrow\">estimator: Pipeline</label><div class=\"sk-toggleable__content\"><pre>Pipeline(steps=[(&#x27;scaler&#x27;, StandardScaler()), (&#x27;svr&#x27;, SVR())])</pre></div></div></div><div class=\"sk-serial\"><div class=\"sk-item\"><div class=\"sk-serial\"><div class=\"sk-item\"><div class=\"sk-estimator sk-toggleable\"><input class=\"sk-toggleable__control sk-hidden--visually\" id=\"sk-estimator-id-11\" type=\"checkbox\" ><label for=\"sk-estimator-id-11\" class=\"sk-toggleable__label sk-toggleable__label-arrow\">StandardScaler</label><div class=\"sk-toggleable__content\"><pre>StandardScaler()</pre></div></div></div><div class=\"sk-item\"><div class=\"sk-estimator sk-toggleable\"><input class=\"sk-toggleable__control sk-hidden--visually\" id=\"sk-estimator-id-12\" type=\"checkbox\" ><label for=\"sk-estimator-id-12\" class=\"sk-toggleable__label sk-toggleable__label-arrow\">SVR</label><div class=\"sk-toggleable__content\"><pre>SVR()</pre></div></div></div></div></div></div></div></div></div></div></div></div>"
            ]
          },
          "metadata": {},
          "execution_count": 20
        }
      ]
    },
    {
      "cell_type": "code",
      "source": [
        "print(\"Best parameters: \", grid_search_svr.best_params_)\n",
        "print(\"Best score: \", grid_search_svr.best_score_)"
      ],
      "metadata": {
        "id": "kJy4fwhSmf-R",
        "colab": {
          "base_uri": "https://localhost:8080/"
        },
        "outputId": "67e0425f-7fd8-4108-c15f-00cf9e6cbfc0"
      },
      "execution_count": 21,
      "outputs": [
        {
          "output_type": "stream",
          "name": "stdout",
          "text": [
            "Best parameters:  {'svr__C': 1, 'svr__gamma': 0.1, 'svr__kernel': 'rbf'}\n",
            "Best score:  0.38105134236074145\n"
          ]
        }
      ]
    },
    {
      "cell_type": "markdown",
      "source": [
        "## Using linear Regression Model:"
      ],
      "metadata": {
        "id": "aqiZMzhwmutb"
      }
    },
    {
      "cell_type": "code",
      "source": [
        "from sklearn.linear_model import LinearRegression\n",
        "\n",
        "# Model pipeline with LinearRegression\n",
        "model_pipeline_rgl = Pipeline([\n",
        "    ('scaler', StandardScaler()),\n",
        "    ('linear_regression', LinearRegression())\n",
        "])\n",
        "\n",
        "\n",
        "param_grid_rgl = {}\n",
        "\n",
        "grid_search_rgl = GridSearchCV(model_pipeline_rgl, param_grid_rgl, cv=5)\n",
        "\n",
        "\n",
        "df = pd.read_csv(\"/content/drive/MyDrive/train_dataset.csv\")\n",
        "y = df['Total_Poids']\n",
        "scaler = StandardScaler()\n",
        "y =  scaler.fit_transform(y.values.reshape(-1, 1)).ravel()\n",
        "\n",
        "X=df.drop('Total_Poids', axis=1)\n",
        "X_preprocessed = preprocessing_pipeline.fit_transform(X)\n",
        "\n",
        " \n",
        "grid_search_rgl.fit(X_preprocessed, y)\n",
        "\n",
        "print(\"Best parameters: \", grid_search_rgl.best_params_)\n",
        "print(\"Best score: \", grid_search_rgl.best_score_)\n"
      ],
      "metadata": {
        "id": "VaCCdeApnXpG",
        "colab": {
          "base_uri": "https://localhost:8080/"
        },
        "outputId": "247a3fbb-1842-438c-e429-5e3fac504f8f"
      },
      "execution_count": 22,
      "outputs": [
        {
          "output_type": "stream",
          "name": "stdout",
          "text": [
            "Best parameters:  {}\n",
            "Best score:  0.33060288533329957\n"
          ]
        }
      ]
    },
    {
      "cell_type": "markdown",
      "source": [
        "## Random Forest Model"
      ],
      "metadata": {
        "id": "2keK_is6oZXX"
      }
    },
    {
      "cell_type": "code",
      "source": [
        "from sklearn.ensemble import RandomForestRegressor\n",
        "\n",
        "\n",
        "model_pipeline_forest = Pipeline([\n",
        "    ('scaler', StandardScaler()),\n",
        "    ('random_forest', RandomForestRegressor())\n",
        "])\n",
        "\n",
        "\n",
        "param_grid_forest = {\n",
        "    'random_forest__n_estimators': [100, 200, 300], \n",
        "    'random_forest__max_depth': [None, 5, 10]  \n",
        "}\n",
        "\n",
        "\n",
        "grid_search_forest = GridSearchCV(model_pipeline_forest, param_grid_forest, cv=5)\n",
        "\n",
        "\n",
        "df = pd.read_csv(\"/content/drive/MyDrive/train_dataset.csv\")\n",
        "y = df['Total_Poids']\n",
        "X=df.drop('Total_Poids', axis=1)\n",
        "X_preprocessed = preprocessing_pipeline.fit_transform(X)\n",
        "y =  scaler.fit_transform(y.values.reshape(-1, 1)).ravel()\n",
        "\n",
        "\n",
        "grid_search_forest.fit(X_preprocessed, y)\n",
        "\n",
        "print(\"Best parameters: \", grid_search_forest.best_params_)\n",
        "print(\"Best score: \", grid_search_forest.best_score_)\n"
      ],
      "metadata": {
        "id": "CNnA_-y1oeVp",
        "colab": {
          "base_uri": "https://localhost:8080/"
        },
        "outputId": "6b73e37a-912e-46ac-8ad5-920f2a33425e"
      },
      "execution_count": 23,
      "outputs": [
        {
          "output_type": "stream",
          "name": "stdout",
          "text": [
            "Best parameters:  {'random_forest__max_depth': None, 'random_forest__n_estimators': 300}\n",
            "Best score:  0.40807083518028264\n"
          ]
        }
      ]
    },
    {
      "cell_type": "markdown",
      "source": [
        "## Using xgBoost Model:"
      ],
      "metadata": {
        "id": "A4mJZawspl-K"
      }
    },
    {
      "cell_type": "code",
      "source": [
        "import xgboost as xgb\n",
        "\n",
        "\n",
        "model_pipeline_xg = Pipeline([\n",
        "    ('scaler', StandardScaler()),\n",
        "    ('xgboost', xgb.XGBRegressor())\n",
        "])\n",
        "\n",
        "\n",
        "param_grid_xg = {\n",
        "    'xgboost__n_estimators': [100, 200, 300], \n",
        "    'xgboost__max_depth': [3, 5, 7]  \n",
        "}\n",
        "\n",
        "\n",
        "grid_search_xg = GridSearchCV(model_pipeline_xg, param_grid_xg, cv=5)\n",
        "\n",
        "# Preprocessing step\n",
        "df = pd.read_csv(\"/content/drive/MyDrive/train_dataset.csv\")\n",
        "\n",
        "y = df['Total_Poids']\n",
        "y =  scaler.fit_transform(y.values.reshape(-1, 1)).ravel()\n",
        "\n",
        "X=df.drop('Total_Poids', axis=1)\n",
        "X_preprocessed = preprocessing_pipeline.fit_transform(X)\n",
        "\n",
        "\n",
        "# Model training step\n",
        "grid_search_xg.fit(X_preprocessed, y)\n",
        "\n",
        "print(\"Best parameters: \", grid_search_xg.best_params_)\n",
        "print(\"Best score: \", grid_search_xg.best_score_)\n"
      ],
      "metadata": {
        "id": "eKzFFQbFpk4G",
        "colab": {
          "base_uri": "https://localhost:8080/"
        },
        "outputId": "b6656fe8-786e-4e3d-dfde-a52c0b8281cb"
      },
      "execution_count": 24,
      "outputs": [
        {
          "output_type": "stream",
          "name": "stdout",
          "text": [
            "Best parameters:  {'xgboost__max_depth': 3, 'xgboost__n_estimators': 100}\n",
            "Best score:  0.3722104248788488\n"
          ]
        }
      ]
    },
    {
      "cell_type": "markdown",
      "source": [
        "### Test New Dataset using SVR():"
      ],
      "metadata": {
        "id": "sSXMinB3Zy4r"
      }
    },
    {
      "cell_type": "code",
      "source": [
        "from sklearn.metrics import mean_squared_error\n",
        "# Read the test dataset\n",
        "df_test = pd.read_csv('/content/drive/MyDrive/test_dataset.csv')\n",
        "X_test=df_test.drop('Total_Poids', axis=1)\n",
        "y_test = df_test['Total_Poids']\n",
        "\n",
        "y_test = scaler.transform(y_test.values.reshape(-1, 1))\n",
        "# Preprocessing for test data\n",
        "X_test_preprocessed = preprocessing_pipeline.fit_transform(X_test)\n",
        "\n",
        "# Model prediction\n",
        "y_test_pred = grid_search_svr.predict(X_test_preprocessed)\n",
        "\n",
        "# Calculate mean squared error (MSE)\n",
        "\n",
        "mse = mean_squared_error(y_test, y_test_pred)\n",
        "print(\"Mean Squared Error (MSE): \", mse)"
      ],
      "metadata": {
        "colab": {
          "base_uri": "https://localhost:8080/"
        },
        "id": "7L0CHiDVWse0",
        "outputId": "691e92a1-3feb-41df-d6a0-762477dfa1ad"
      },
      "execution_count": 25,
      "outputs": [
        {
          "output_type": "stream",
          "name": "stdout",
          "text": [
            "Mean Squared Error (MSE):  0.6274561805007853\n"
          ]
        }
      ]
    }
  ]
}